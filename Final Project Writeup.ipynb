{
 "cells": [
  {
   "cell_type": "markdown",
   "id": "980160ab-98cf-4eb4-a87a-f21bbff36545",
   "metadata": {},
   "source": [
    "# 1 - Introduction"
   ]
  },
  {
   "cell_type": "markdown",
   "id": "082eb717-28b3-407f-a72a-0bfd6004ba92",
   "metadata": {},
   "source": []
  },
  {
   "cell_type": "markdown",
   "id": "0f962b88-76f7-41a8-bb60-ac5f94b1b364",
   "metadata": {},
   "source": [
    "# 2 - Approach"
   ]
  },
  {
   "cell_type": "markdown",
   "id": "720bca65-ea23-4a7f-af1f-6c0106226564",
   "metadata": {},
   "source": []
  },
  {
   "cell_type": "markdown",
   "id": "3dc119b0-2c26-4704-913c-28ca4ac125fb",
   "metadata": {},
   "source": [
    "# 3 - Initial Results"
   ]
  },
  {
   "cell_type": "markdown",
   "id": "df8f870e-11a0-4e6a-9a76-44b04a580318",
   "metadata": {},
   "source": []
  },
  {
   "cell_type": "markdown",
   "id": "9f007fa2-3211-48b2-9c58-91764112dcb0",
   "metadata": {},
   "source": []
  },
  {
   "cell_type": "markdown",
   "id": "69d09b0e-7c0c-4d31-af0c-563b440784a9",
   "metadata": {},
   "source": []
  },
  {
   "cell_type": "markdown",
   "id": "43a9b7af-6fb1-419b-a3e5-4f07a2ed8019",
   "metadata": {},
   "source": []
  },
  {
   "cell_type": "markdown",
   "id": "5855b027-fa32-45a1-a05c-733bf5638861",
   "metadata": {},
   "source": []
  },
  {
   "cell_type": "markdown",
   "id": "f8725d08-9e5e-4f05-817b-4a56e71ee769",
   "metadata": {},
   "source": []
  },
  {
   "cell_type": "markdown",
   "id": "f27c6bb9-ff3e-4824-bd83-86ad1b08ca35",
   "metadata": {},
   "source": []
  },
  {
   "cell_type": "markdown",
   "id": "31c09bd0-3ba9-4dc1-8639-555f143a1e0a",
   "metadata": {},
   "source": []
  }
 ],
 "metadata": {
  "kernelspec": {
   "display_name": "Python 3 (ipykernel)",
   "language": "python",
   "name": "python3"
  },
  "language_info": {
   "codemirror_mode": {
    "name": "ipython",
    "version": 3
   },
   "file_extension": ".py",
   "mimetype": "text/x-python",
   "name": "python",
   "nbconvert_exporter": "python",
   "pygments_lexer": "ipython3",
   "version": "3.10.12"
  }
 },
 "nbformat": 4,
 "nbformat_minor": 5
}
